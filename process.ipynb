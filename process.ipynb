{
 "cells": [
  {
   "cell_type": "code",
   "execution_count": 1,
   "metadata": {},
   "outputs": [
    {
     "name": "stderr",
     "output_type": "stream",
     "text": [
      "/home/kechen/anaconda3/envs/ke-cttm/lib/python3.9/site-packages/tqdm/auto.py:21: TqdmWarning: IProgress not found. Please update jupyter and ipywidgets. See https://ipywidgets.readthedocs.io/en/stable/user_install.html\n",
      "  from .autonotebook import tqdm as notebook_tqdm\n"
     ]
    }
   ],
   "source": [
    "import shutil\n",
    "import os\n",
    "import random\n",
    "import json\n",
    "import torchaudio\n",
    "from audioldm_eval import EvaluationHelper\n",
    "import numpy as np\n",
    "from tqdm import tqdm"
   ]
  },
  {
   "cell_type": "code",
   "execution_count": 20,
   "metadata": {},
   "outputs": [],
   "source": [
    "dataset_path = '/home/kechen/dataset/audiostock-10k-16khz/test'\n",
    "output_path = '/home/kechen/dataset/audiostock-10k-16khz/test_split'\n"
   ]
  },
  {
   "cell_type": "code",
   "execution_count": 21,
   "metadata": {},
   "outputs": [
    {
     "name": "stdout",
     "output_type": "stream",
     "text": [
      "200\n"
     ]
    }
   ],
   "source": [
    "wav_length = 160 * 1024\n",
    "filelist = os.listdir(dataset_path)\n",
    "random.shuffle(filelist)\n",
    "filelist = filelist[:int(len(filelist) * 0.2)]\n",
    "print(len(filelist))\n",
    "for f in filelist:\n",
    "    filepath = os.path.join(dataset_path, f)\n",
    "    output_f = os.path.join(output_path, f)\n",
    "    y, sr = torchaudio.load(filepath)\n",
    "    if y.shape[-1] > wav_length:\n",
    "        sta = (y.shape[-1] - wav_length) // 2\n",
    "        y = y[:,sta:sta + wav_length]\n",
    "        torchaudio.save(output_f, y, 16000)\n",
    "\n",
    "    # shutil.copyfile(filepath, copypath)"
   ]
  },
  {
   "cell_type": "code",
   "execution_count": 8,
   "metadata": {},
   "outputs": [
    {
     "data": {
      "text/plain": [
       "str"
      ]
     },
     "execution_count": 8,
     "metadata": {},
     "output_type": "execute_result"
    }
   ],
   "source": [
    "filepath = '/home/kechen/dataset/audiostock-10k-16khz/label/5.json'\n",
    "a = json.load(open(filepath))\n"
   ]
  },
  {
   "cell_type": "code",
   "execution_count": 4,
   "metadata": {},
   "outputs": [
    {
     "name": "stderr",
     "output_type": "stream",
     "text": [
      "Using cache found in /home/kechen/.cache/torch/hub/harritaylor_torchvggish_master\n"
     ]
    },
    {
     "name": "stdout",
     "output_type": "stream",
     "text": [
      "+Two path have 154 intersection files out of total 154 & 154 files. Processing two folder with same_name=True\n",
      "Two path have 154 intersection files\n",
      "Calculating LSD using a time offset of 1120 ...\n"
     ]
    },
    {
     "name": "stderr",
     "output_type": "stream",
     "text": [
      "100%|██████████| 154/154 [00:17<00:00,  8.79it/s]\n"
     ]
    },
    {
     "name": "stdout",
     "output_type": "stream",
     "text": [
      "Extracting features from /home/kechen/dataset/audiostock-10k-16khz/test_subset.\n"
     ]
    },
    {
     "name": "stderr",
     "output_type": "stream",
     "text": [
      "100%|██████████| 154/154 [00:00<00:00, 171.69it/s]\n"
     ]
    },
    {
     "name": "stdout",
     "output_type": "stream",
     "text": [
      "Extracting features from /home/kechen/research/CTTM/Controllable_TTM/logs/musicldm/controllable-text-to-music-audiostock10k/2023_04_04_musicldm_audiostock10k_3e-05_v1_1680680497/val_49632.\n"
     ]
    },
    {
     "name": "stderr",
     "output_type": "stream",
     "text": [
      "100%|██████████| 154/154 [00:01<00:00, 149.74it/s]\n",
      "100%|██████████| 154/154 [00:02<00:00, 58.77it/s] \n"
     ]
    },
    {
     "name": "stdout",
     "output_type": "stream",
     "text": [
      "KL: Assuming that `input2` is \"pseudo\" target and `input1` is prediction. KL(input2_i||input1_i)\n",
      "Computing Inception Score\n",
      "Computing Frechet Distance (PANNs)\n",
      "Calculating the embedding of the audio files inside /home/kechen/research/CTTM/Controllable_TTM/logs/musicldm/controllable-text-to-music-audiostock10k/2023_04_04_musicldm_audiostock10k_3e-05_v1_1680680497/val_49632\n"
     ]
    },
    {
     "name": "stderr",
     "output_type": "stream",
     "text": [
      "154it [00:16,  9.22it/s]\n"
     ]
    },
    {
     "name": "stdout",
     "output_type": "stream",
     "text": [
      "Calculating the embedding of the audio files inside /home/kechen/dataset/audiostock-10k-16khz/test_subset\n"
     ]
    },
    {
     "name": "stderr",
     "output_type": "stream",
     "text": [
      "154it [00:16,  9.08it/s]\n"
     ]
    },
    {
     "name": "stdout",
     "output_type": "stream",
     "text": [
      "WARNING: subset size (1000) is larger than feature length (154).  Using 154 for both datasets\n"
     ]
    },
    {
     "name": "stderr",
     "output_type": "stream",
     "text": [
      "                                                                                           "
     ]
    },
    {
     "name": "stdout",
     "output_type": "stream",
     "text": [
      "lsd: 2.4111883\n",
      "ssim_stft: 0.1065976\n",
      "psnr: 14.0957509\n",
      "ssim: 0.3156806\n",
      "kullback_leibler_divergence_sigmoid: 3.7790773\n",
      "kullback_leibler_divergence_softmax: 1.0551471\n",
      "inception_score_mean: 1.5641520\n",
      "inception_score_std: 0.1835597\n",
      "frechet_distance: 18.8862980\n",
      "frechet_audio_distance: 18.5036037\n",
      "kernel_inception_distance_mean: 0.0039086\n",
      "kernel_inception_distance_std: 0.0000001\n",
      "\n",
      "\n",
      "None\n",
      "KL_Sigmoid:  3.77908; KL:  1.05515; PSNR: 14.09575 SSIM: 0.31568 ISc:  1.56415 (0.183560); KID: 0.00391 (0.00000) FD: 18.88630; FAD: 18.50360 LSD: 2.41119 SSIM_STFT: 0.10660\n",
      "Save json file at /home/kechen/research/CTTM/Controllable_TTM/logs/musicldm/controllable-text-to-music-audiostock10k/2023_04_04_musicldm_audiostock10k_3e-05_v1_1680680497/val_49632.json\n"
     ]
    },
    {
     "name": "stderr",
     "output_type": "stream",
     "text": [
      "\r"
     ]
    }
   ],
   "source": [
    "waveform_save_path = '/home/kechen/research/CTTM/Controllable_TTM/logs/musicldm/controllable-text-to-music-audiostock10k/2023_04_04_musicldm_audiostock10k_3e-05_v1_1680680497/val_49632'\n",
    "test_data_path = '/home/kechen/dataset/audiostock-10k-16khz/test_subset'\n",
    "evaluator = EvaluationHelper(16000, 'cuda')\n",
    "metrics = evaluator.main(waveform_save_path, test_data_path)"
   ]
  },
  {
   "cell_type": "code",
   "execution_count": 6,
   "metadata": {},
   "outputs": [],
   "source": [
    "dataset_path = \"/trunk/datasets/kechen/soundcloud-16k/valid\"\n",
    "output_path = \"/trunk/datasets/kechen/soundcloud-16k/valid_subset\"\n",
    "data_dict = {}\n",
    "data = [os.path.join(dataset_path, f) for f in os.listdir(dataset_path)]\n",
    "\n",
    "filelist = [os.path.basename(f).split('.')[0].split('_') for f in data]\n",
    "for f,idx in filelist:\n",
    "    if f not in data_dict:\n",
    "        data_dict[f] = int(idx)\n",
    "    else:\n",
    "        data_dict[f] = max(int(idx), data_dict[f])\n",
    "data = [os.path.join(dataset_path, f'{k}_{data_dict[k] // 2}.wav') for k in data_dict.keys()] + \\\n",
    "    [os.path.join(dataset_path, f'{k}_0.wav') for k in data_dict.keys()] + \\\n",
    "    [os.path.join(dataset_path, f'{k}_{data_dict[k]}.wav') for k in data_dict.keys()]\n",
    "\n",
    "for f in data:\n",
    "    shutil.copy(f, output_path)"
   ]
  },
  {
   "cell_type": "code",
   "execution_count": 4,
   "metadata": {},
   "outputs": [
    {
     "name": "stdout",
     "output_type": "stream",
     "text": [
      "['7841.wav', '2451.wav', '2716.wav', '8938.wav', '220.wav', '6620.wav', '2215.wav', '4445.wav', '5518.wav', '8680.wav', '3316.wav', '4231.wav', '459.wav', '5964.wav', '6778.wav', '8818.wav', '5460.wav', '5244.wav', '1.wav', '793.wav', '2178.wav', '8504.wav', '1243.wav', '648.wav', '5619.wav', '1927.wav', '8399.wav', '3429.wav', '1730.wav', '2126.wav', '3652.wav', '7760.wav', '1507.wav', '1908.wav', '8987.wav', '7573.wav', '180.wav', '3485.wav', '1474.wav', '8844.wav', '6342.wav', '3988.wav', '1594.wav', '6938.wav', '1045.wav', '2831.wav', '2538.wav', '2723.wav', '1290.wav', '6936.wav', '1350.wav', '4663.wav', '7030.wav', '4830.wav', '6765.wav', '134.wav', '1963.wav', '4709.wav', '761.wav', '2612.wav', '4606.wav', '3892.wav', '1279.wav', '2801.wav', '2381.wav', '7060.wav', '4468.wav', '4347.wav', '6961.wav', '3862.wav', '4815.wav', '8441.wav', '5463.wav', '581.wav', '894.wav', '2825.wav', '4589.wav', '249.wav', '4736.wav', '2243.wav', '5073.wav', '3824.wav', '3381.wav', '4171.wav', '5766.wav', '7874.wav', '8886.wav', '1266.wav', '3011.wav', '7337.wav', '327.wav', '8707.wav', '5887.wav', '5559.wav', '8945.wav', '5428.wav', '2991.wav', '5889.wav', '7958.wav', '762.wav']\n",
      "/graft1/datasets/kechen/audiostock-10k-16khz/train/7841.wav\n",
      "/graft1/datasets/kechen/audiostock-10k-16khz/train/2451.wav\n",
      "/graft1/datasets/kechen/audiostock-10k-16khz/train/2716.wav\n",
      "/graft1/datasets/kechen/audiostock-10k-16khz/train/8938.wav\n",
      "/graft1/datasets/kechen/audiostock-10k-16khz/train/220.wav\n",
      "/graft1/datasets/kechen/audiostock-10k-16khz/train/6620.wav\n",
      "/graft1/datasets/kechen/audiostock-10k-16khz/train/2215.wav\n",
      "/graft1/datasets/kechen/audiostock-10k-16khz/train/4445.wav\n",
      "/graft1/datasets/kechen/audiostock-10k-16khz/train/5518.wav\n",
      "/graft1/datasets/kechen/audiostock-10k-16khz/train/8680.wav\n",
      "/graft1/datasets/kechen/audiostock-10k-16khz/train/3316.wav\n",
      "/graft1/datasets/kechen/audiostock-10k-16khz/train/4231.wav\n",
      "/graft1/datasets/kechen/audiostock-10k-16khz/train/459.wav\n",
      "/graft1/datasets/kechen/audiostock-10k-16khz/train/5964.wav\n",
      "/graft1/datasets/kechen/audiostock-10k-16khz/train/6778.wav\n",
      "/graft1/datasets/kechen/audiostock-10k-16khz/train/8818.wav\n",
      "/graft1/datasets/kechen/audiostock-10k-16khz/train/5460.wav\n",
      "/graft1/datasets/kechen/audiostock-10k-16khz/train/5244.wav\n",
      "/graft1/datasets/kechen/audiostock-10k-16khz/train/1.wav\n",
      "/graft1/datasets/kechen/audiostock-10k-16khz/train/793.wav\n",
      "/graft1/datasets/kechen/audiostock-10k-16khz/train/2178.wav\n",
      "/graft1/datasets/kechen/audiostock-10k-16khz/train/8504.wav\n",
      "/graft1/datasets/kechen/audiostock-10k-16khz/train/1243.wav\n",
      "/graft1/datasets/kechen/audiostock-10k-16khz/train/648.wav\n",
      "/graft1/datasets/kechen/audiostock-10k-16khz/train/5619.wav\n",
      "/graft1/datasets/kechen/audiostock-10k-16khz/train/1927.wav\n",
      "/graft1/datasets/kechen/audiostock-10k-16khz/train/8399.wav\n",
      "/graft1/datasets/kechen/audiostock-10k-16khz/train/3429.wav\n",
      "/graft1/datasets/kechen/audiostock-10k-16khz/train/1730.wav\n",
      "/graft1/datasets/kechen/audiostock-10k-16khz/train/2126.wav\n",
      "/graft1/datasets/kechen/audiostock-10k-16khz/train/3652.wav\n",
      "/graft1/datasets/kechen/audiostock-10k-16khz/train/7760.wav\n",
      "/graft1/datasets/kechen/audiostock-10k-16khz/train/1507.wav\n",
      "/graft1/datasets/kechen/audiostock-10k-16khz/train/1908.wav\n",
      "/graft1/datasets/kechen/audiostock-10k-16khz/train/8987.wav\n",
      "/graft1/datasets/kechen/audiostock-10k-16khz/train/7573.wav\n",
      "/graft1/datasets/kechen/audiostock-10k-16khz/train/180.wav\n",
      "/graft1/datasets/kechen/audiostock-10k-16khz/train/3485.wav\n",
      "/graft1/datasets/kechen/audiostock-10k-16khz/train/1474.wav\n",
      "/graft1/datasets/kechen/audiostock-10k-16khz/train/8844.wav\n",
      "/graft1/datasets/kechen/audiostock-10k-16khz/train/6342.wav\n",
      "/graft1/datasets/kechen/audiostock-10k-16khz/train/3988.wav\n",
      "/graft1/datasets/kechen/audiostock-10k-16khz/train/1594.wav\n",
      "/graft1/datasets/kechen/audiostock-10k-16khz/train/6938.wav\n",
      "/graft1/datasets/kechen/audiostock-10k-16khz/train/1045.wav\n",
      "/graft1/datasets/kechen/audiostock-10k-16khz/train/2831.wav\n",
      "/graft1/datasets/kechen/audiostock-10k-16khz/train/2538.wav\n",
      "/graft1/datasets/kechen/audiostock-10k-16khz/train/2723.wav\n",
      "/graft1/datasets/kechen/audiostock-10k-16khz/train/1290.wav\n",
      "/graft1/datasets/kechen/audiostock-10k-16khz/train/6936.wav\n",
      "/graft1/datasets/kechen/audiostock-10k-16khz/train/1350.wav\n",
      "/graft1/datasets/kechen/audiostock-10k-16khz/train/4663.wav\n",
      "/graft1/datasets/kechen/audiostock-10k-16khz/train/7030.wav\n",
      "/graft1/datasets/kechen/audiostock-10k-16khz/train/4830.wav\n",
      "/graft1/datasets/kechen/audiostock-10k-16khz/train/6765.wav\n",
      "/graft1/datasets/kechen/audiostock-10k-16khz/train/134.wav\n",
      "/graft1/datasets/kechen/audiostock-10k-16khz/train/1963.wav\n",
      "/graft1/datasets/kechen/audiostock-10k-16khz/train/4709.wav\n",
      "/graft1/datasets/kechen/audiostock-10k-16khz/train/761.wav\n",
      "/graft1/datasets/kechen/audiostock-10k-16khz/train/2612.wav\n",
      "/graft1/datasets/kechen/audiostock-10k-16khz/train/4606.wav\n",
      "/graft1/datasets/kechen/audiostock-10k-16khz/train/3892.wav\n",
      "/graft1/datasets/kechen/audiostock-10k-16khz/train/1279.wav\n",
      "/graft1/datasets/kechen/audiostock-10k-16khz/train/2801.wav\n",
      "/graft1/datasets/kechen/audiostock-10k-16khz/train/2381.wav\n",
      "/graft1/datasets/kechen/audiostock-10k-16khz/train/7060.wav\n",
      "/graft1/datasets/kechen/audiostock-10k-16khz/train/4468.wav\n",
      "/graft1/datasets/kechen/audiostock-10k-16khz/train/4347.wav\n",
      "/graft1/datasets/kechen/audiostock-10k-16khz/train/6961.wav\n",
      "/graft1/datasets/kechen/audiostock-10k-16khz/train/3862.wav\n",
      "/graft1/datasets/kechen/audiostock-10k-16khz/train/4815.wav\n",
      "/graft1/datasets/kechen/audiostock-10k-16khz/train/8441.wav\n",
      "/graft1/datasets/kechen/audiostock-10k-16khz/train/5463.wav\n",
      "/graft1/datasets/kechen/audiostock-10k-16khz/train/581.wav\n",
      "/graft1/datasets/kechen/audiostock-10k-16khz/train/894.wav\n",
      "/graft1/datasets/kechen/audiostock-10k-16khz/train/2825.wav\n",
      "/graft1/datasets/kechen/audiostock-10k-16khz/train/4589.wav\n",
      "/graft1/datasets/kechen/audiostock-10k-16khz/train/249.wav\n",
      "/graft1/datasets/kechen/audiostock-10k-16khz/train/4736.wav\n",
      "/graft1/datasets/kechen/audiostock-10k-16khz/train/2243.wav\n",
      "/graft1/datasets/kechen/audiostock-10k-16khz/train/5073.wav\n",
      "/graft1/datasets/kechen/audiostock-10k-16khz/train/3824.wav\n",
      "/graft1/datasets/kechen/audiostock-10k-16khz/train/3381.wav\n",
      "/graft1/datasets/kechen/audiostock-10k-16khz/train/4171.wav\n",
      "/graft1/datasets/kechen/audiostock-10k-16khz/train/5766.wav\n",
      "/graft1/datasets/kechen/audiostock-10k-16khz/train/7874.wav\n",
      "/graft1/datasets/kechen/audiostock-10k-16khz/train/8886.wav\n",
      "/graft1/datasets/kechen/audiostock-10k-16khz/train/1266.wav\n",
      "/graft1/datasets/kechen/audiostock-10k-16khz/train/3011.wav\n",
      "/graft1/datasets/kechen/audiostock-10k-16khz/train/7337.wav\n",
      "/graft1/datasets/kechen/audiostock-10k-16khz/train/327.wav\n",
      "/graft1/datasets/kechen/audiostock-10k-16khz/train/8707.wav\n",
      "/graft1/datasets/kechen/audiostock-10k-16khz/train/5887.wav\n",
      "/graft1/datasets/kechen/audiostock-10k-16khz/train/5559.wav\n",
      "/graft1/datasets/kechen/audiostock-10k-16khz/train/8945.wav\n",
      "/graft1/datasets/kechen/audiostock-10k-16khz/train/5428.wav\n",
      "/graft1/datasets/kechen/audiostock-10k-16khz/train/2991.wav\n",
      "/graft1/datasets/kechen/audiostock-10k-16khz/train/5889.wav\n",
      "/graft1/datasets/kechen/audiostock-10k-16khz/train/7958.wav\n",
      "/graft1/datasets/kechen/audiostock-10k-16khz/train/762.wav\n"
     ]
    }
   ],
   "source": [
    "dataset_path = '/graft1/datasets/kechen/audiostock-10k-16khz/train'\n",
    "output_path = '/graft1/datasets/kechen/audiostock-10k-16khz/valid'\n",
    "\n",
    "filelist = os.listdir(dataset_path)\n",
    "random.shuffle(filelist)\n",
    "filelist = filelist[:100]\n",
    "print(filelist)\n",
    "for f in filelist:\n",
    "    nf = os.path.join(dataset_path, f)\n",
    "    print(nf)\n",
    "    shutil.copy(nf, os.path.join(output_path, f))"
   ]
  },
  {
   "cell_type": "code",
   "execution_count": 6,
   "metadata": {},
   "outputs": [],
   "source": [
    "dataset_path = '/home/kechen/research/CTTM/Controllable_TTM/logs/musicldm/controllable-text-to-music-audiostock10k/2023_04_04_musicldm_audiostock10k_3e-05_v1_1682996601/val_0'\n",
    "source_path = '/graft1/datasets/kechen/audiostock-10k-16khz/label'\n",
    "\n",
    "filelist = os.listdir(dataset_path)\n",
    "for f in filelist:\n",
    "    nf = os.path.join(source_path, f.split(\".\")[0] + '.json')\n",
    "    if os.path.exists(nf):\n",
    "        shutil.copy(nf, os.path.join(dataset_path, f.split(\".\")[0] + '.json'))\n",
    "\n"
   ]
  },
  {
   "cell_type": "code",
   "execution_count": 2,
   "metadata": {},
   "outputs": [],
   "source": [
    "def process_mixup_dict(dataset_path, output, thres = 3):\n",
    "    mixup_map = {}\n",
    "    tempo_group = {}\n",
    "    for d_path in dataset_path:\n",
    "        filelist = os.listdir(d_path)\n",
    "        for f in filelist:\n",
    "            if 'downbeat' in f:\n",
    "                continue\n",
    "            nf = os.path.join(d_path, f)\n",
    "            wavname, _, _ = f.split('_')\n",
    "            wavname = wavname + '.wav'\n",
    "            tempo_data = np.load(nf, allow_pickle=True)\n",
    "            if len(tempo_data) <= 1:\n",
    "                tempo = 0\n",
    "            else:\n",
    "                tempo = int(round((len(tempo_data) - 1) / (tempo_data[-1] - tempo_data[0]) * 60))\n",
    "            if tempo // thres not in tempo_group:\n",
    "                tempo_group[tempo // thres] = [wavname]\n",
    "            else:\n",
    "                tempo_group[tempo // thres].append(wavname)\n",
    "    for key in tempo_group:\n",
    "        for wavfile in tempo_group[key]:\n",
    "            mixup_map[wavfile] = key\n",
    "    np.save(output, {'map': mixup_map, 'tempo': tempo_group}, allow_pickle=True)\n"
   ]
  },
  {
   "cell_type": "code",
   "execution_count": 3,
   "metadata": {},
   "outputs": [],
   "source": [
    "tempo_path = '/graft1/datasets/kechen/audiostock-10k-16khz/tempo'\n",
    "filelist = os.listdir(os.path.join(tempo_path, 'train'))\n",
    "process_mixup_dict([os.path.join(tempo_path, 'train')], 'audiostock_tempomap_all.npy', 2000)"
   ]
  },
  {
   "cell_type": "code",
   "execution_count": 54,
   "metadata": {},
   "outputs": [],
   "source": [
    "def audio_mixup(anchor_wav, tempo_map, tempo_folder):\n",
    "    p = np.random.beta(5,5)\n",
    "    wav_folder = os.path.dirname(anchor_wav)\n",
    "    anchor_name = os.path.basename(anchor_wav)\n",
    "    tempo_group = tempo_map['tempo'][tempo_map['map'][anchor_name]]\n",
    "    if len(tempo_group) <= 1:\n",
    "        y, sr = torchaudio.load(anchor_wav)\n",
    "        return y, y, y\n",
    "    else:\n",
    "        target_name = np.random.choice(tempo_group)\n",
    "        target_wav = os.path.join(wav_folder, target_name)\n",
    "        \n",
    "        target_wav, tsr = torchaudio.load(target_wav)\n",
    "        anchor_wav, asr = torchaudio.load(anchor_wav)\n",
    "\n",
    "        assert asr == tsr, f'mixup sample rate should be the same {asr} vs. {tsr}'\n",
    "        \n",
    "        anchor_downbeat = np.load(os.path.join(tempo_folder, f'{anchor_name.split(\".\")[0]}_downbeat_pred.npy'), allow_pickle=True)\n",
    "        target_downbeat = np.load(os.path.join(tempo_folder, f'{target_name.split(\".\")[0]}_downbeat_pred.npy'), allow_pickle=True)\n",
    "\n",
    "        if len(anchor_downbeat) > 1 and len(target_downbeat) > 1:\n",
    "            adp = int(anchor_downbeat[np.random.randint(0, len(anchor_downbeat) - 1)] * asr) \n",
    "            tdp = int(target_downbeat[np.random.randint(0, len(target_downbeat) - 1)] * tsr)\n",
    "            anchor_wav = anchor_wav[..., adp:]\n",
    "            target_wav = target_wav[..., tdp:]\n",
    "            mix_len = min(anchor_wav.size(-1), target_wav.size(-1))\n",
    "            anchor_wav = anchor_wav[..., :mix_len]\n",
    "            target_wav = target_wav[..., :mix_len]\n",
    "            mix_wav = p * anchor_wav + (1-p) * target_wav\n",
    "            return anchor_wav, target_wav, mix_wav\n",
    "        else:\n",
    "            return anchor_wav, anchor_wav, anchor_wav\n",
    "\n"
   ]
  },
  {
   "cell_type": "code",
   "execution_count": 59,
   "metadata": {},
   "outputs": [
    {
     "name": "stderr",
     "output_type": "stream",
     "text": [
      "100%|██████████| 100/100 [00:07<00:00, 12.70it/s]\n"
     ]
    }
   ],
   "source": [
    "\n",
    "tempo_map = np.load('/home/kechen/research/CTTM/Controllable_TTM/audiostock_tempomap.npy', allow_pickle=True).item()\n",
    "tempo_folder = '/graft1/datasets/kechen/audiostock-10k-16khz/tempo/train'\n",
    "source_path = '/graft1/datasets/kechen/audiostock-10k-16khz/train'\n",
    "\n",
    "filelist = [os.path.join(source_path, f) for f in os.listdir(source_path)]\n",
    "for i in tqdm(range(100)):\n",
    "    f = np.random.choice(filelist)\n",
    "    a,b,c = audio_mixup(f, tempo_map, tempo_folder)\n",
    "    torchaudio.save(\"a.wav\", a, 16000)\n",
    "    torchaudio.save(\"b.wav\", b, 16000)\n",
    "    torchaudio.save(\"c.wav\", c, 16000)"
   ]
  },
  {
   "cell_type": "code",
   "execution_count": 4,
   "metadata": {},
   "outputs": [],
   "source": [
    "dataset_path = '/graft1/datasets/kechen/audiostock-10k-16khz/test'\n",
    "output_path = '/graft1/datasets/kechen/audiostock-10k-16khz/test_split'\n"
   ]
  },
  {
   "cell_type": "code",
   "execution_count": 5,
   "metadata": {},
   "outputs": [],
   "source": [
    "filelist = os.listdir(dataset_path)\n",
    "os.makedirs(output_path, exist_ok=True)\n",
    "\n",
    "for f in filelist:\n",
    "    of = os.path.join(dataset_path, f)\n",
    "    y, sr = torchaudio.load(of)\n",
    "    y = y[..., :sr * 10]\n",
    "    nf = os.path.join(output_path, f)\n",
    "    torchaudio.save(nf,y,sr)\n"
   ]
  }
 ],
 "metadata": {
  "kernelspec": {
   "display_name": "ke-cttm",
   "language": "python",
   "name": "python3"
  },
  "language_info": {
   "codemirror_mode": {
    "name": "ipython",
    "version": 3
   },
   "file_extension": ".py",
   "mimetype": "text/x-python",
   "name": "python",
   "nbconvert_exporter": "python",
   "pygments_lexer": "ipython3",
   "version": "3.9.16"
  },
  "orig_nbformat": 4
 },
 "nbformat": 4,
 "nbformat_minor": 2
}
